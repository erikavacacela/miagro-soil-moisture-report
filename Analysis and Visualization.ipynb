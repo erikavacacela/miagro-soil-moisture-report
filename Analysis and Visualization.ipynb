{
 "cells": [
  {
   "cell_type": "markdown",
   "id": "08cdf7ab",
   "metadata": {},
   "source": [
    "# Análisis y Visualización de medidas del suelo"
   ]
  },
  {
   "cell_type": "markdown",
   "id": "801ffb25",
   "metadata": {},
   "source": [
    "## 1. Obtención de datos"
   ]
  },
  {
   "cell_type": "markdown",
   "id": "fe9ada76",
   "metadata": {},
   "source": [
    "Add imports"
   ]
  },
  {
   "cell_type": "code",
   "execution_count": 193,
   "id": "2f07aa69",
   "metadata": {},
   "outputs": [],
   "source": [
    "import os\n",
    "\n",
    "import boto3\n",
    "import pandas as pd\n",
    "import matplotlib.pyplot as plt\n",
    "import numpy as np\n",
    "from datetime import datetime\n",
    "\n",
    "from dotenv import load_dotenv\n",
    "from soil_moisture import SoilMoisture"
   ]
  },
  {
   "cell_type": "markdown",
   "id": "b9b0cb06",
   "metadata": {},
   "source": [
    "Load env vars"
   ]
  },
  {
   "cell_type": "code",
   "execution_count": 170,
   "id": "ff8311db",
   "metadata": {},
   "outputs": [
    {
     "data": {
      "text/plain": [
       "True"
      ]
     },
     "execution_count": 170,
     "metadata": {},
     "output_type": "execute_result"
    }
   ],
   "source": [
    "load_dotenv()"
   ]
  },
  {
   "cell_type": "markdown",
   "id": "5c49f7a2",
   "metadata": {},
   "source": [
    "Declare instance of dynamodb"
   ]
  },
  {
   "cell_type": "code",
   "execution_count": 194,
   "id": "cdb9113b",
   "metadata": {},
   "outputs": [
    {
     "name": "stdout",
     "output_type": "stream",
     "text": [
      "Conexión establecida.\n"
     ]
    }
   ],
   "source": [
    "client = boto3.client(\n",
    "    'dynamodb',\n",
    "    region_name = os.getenv('REGION'),\n",
    "    aws_access_key_id=os.getenv('AWS_ACCESS_KEY_ID'),\n",
    "    aws_secret_access_key=os.getenv('AWS_SECRET_ACCESS_KEY'),\n",
    "    )\n",
    "dynamodb = boto3.resource(\n",
    "    'dynamodb',\n",
    "    region_name = os.getenv('REGION'),\n",
    "    aws_access_key_id=os.getenv('AWS_ACCESS_KEY_ID'),\n",
    "    aws_secret_access_key=os.getenv('AWS_SECRET_ACCESS_KEY'),\n",
    "    )\n",
    "ddb_exceptions = client.exceptions\n",
    "print(\"Conexión establecida.\")"
   ]
  },
  {
   "cell_type": "markdown",
   "id": "01d0dbed",
   "metadata": {},
   "source": [
    "Scanning table"
   ]
  },
  {
   "cell_type": "code",
   "execution_count": 195,
   "id": "d5d3aa39",
   "metadata": {},
   "outputs": [
    {
     "data": {
      "text/html": [
       "<div>\n",
       "<style scoped>\n",
       "    .dataframe tbody tr th:only-of-type {\n",
       "        vertical-align: middle;\n",
       "    }\n",
       "\n",
       "    .dataframe tbody tr th {\n",
       "        vertical-align: top;\n",
       "    }\n",
       "\n",
       "    .dataframe thead th {\n",
       "        text-align: right;\n",
       "    }\n",
       "</style>\n",
       "<table border=\"1\" class=\"dataframe\">\n",
       "  <thead>\n",
       "    <tr style=\"text-align: right;\">\n",
       "      <th></th>\n",
       "      <th>sample_time</th>\n",
       "      <th>device_id</th>\n",
       "      <th>sensor_type</th>\n",
       "      <th>humidity</th>\n",
       "      <th>potassium</th>\n",
       "      <th>nitrogen</th>\n",
       "      <th>ph</th>\n",
       "      <th>temperature</th>\n",
       "      <th>phosphorous</th>\n",
       "    </tr>\n",
       "  </thead>\n",
       "  <tbody>\n",
       "    <tr>\n",
       "      <th>130</th>\n",
       "      <td>1670385406036</td>\n",
       "      <td>1</td>\n",
       "      <td>INTEGRATED</td>\n",
       "      <td>0</td>\n",
       "      <td>213</td>\n",
       "      <td>2</td>\n",
       "      <td>0</td>\n",
       "      <td>24</td>\n",
       "      <td>191</td>\n",
       "    </tr>\n",
       "    <tr>\n",
       "      <th>114</th>\n",
       "      <td>1670385391603</td>\n",
       "      <td>1</td>\n",
       "      <td>CAPACITIVE</td>\n",
       "      <td>43</td>\n",
       "      <td>None</td>\n",
       "      <td>None</td>\n",
       "      <td>None</td>\n",
       "      <td>None</td>\n",
       "      <td>None</td>\n",
       "    </tr>\n",
       "    <tr>\n",
       "      <th>150</th>\n",
       "      <td>1670385391588</td>\n",
       "      <td>1</td>\n",
       "      <td>RESISTIVE</td>\n",
       "      <td>93</td>\n",
       "      <td>None</td>\n",
       "      <td>None</td>\n",
       "      <td>None</td>\n",
       "      <td>None</td>\n",
       "      <td>None</td>\n",
       "    </tr>\n",
       "    <tr>\n",
       "      <th>208</th>\n",
       "      <td>1670385331585</td>\n",
       "      <td>1</td>\n",
       "      <td>CAPACITIVE</td>\n",
       "      <td>51</td>\n",
       "      <td>None</td>\n",
       "      <td>None</td>\n",
       "      <td>None</td>\n",
       "      <td>None</td>\n",
       "      <td>None</td>\n",
       "    </tr>\n",
       "    <tr>\n",
       "      <th>222</th>\n",
       "      <td>1670385331578</td>\n",
       "      <td>1</td>\n",
       "      <td>RESISTIVE</td>\n",
       "      <td>99</td>\n",
       "      <td>None</td>\n",
       "      <td>None</td>\n",
       "      <td>None</td>\n",
       "      <td>None</td>\n",
       "      <td>None</td>\n",
       "    </tr>\n",
       "    <tr>\n",
       "      <th>...</th>\n",
       "      <td>...</td>\n",
       "      <td>...</td>\n",
       "      <td>...</td>\n",
       "      <td>...</td>\n",
       "      <td>...</td>\n",
       "      <td>...</td>\n",
       "      <td>...</td>\n",
       "      <td>...</td>\n",
       "      <td>...</td>\n",
       "    </tr>\n",
       "    <tr>\n",
       "      <th>52</th>\n",
       "      <td>1670378447860</td>\n",
       "      <td>1</td>\n",
       "      <td>CAPACITIVE</td>\n",
       "      <td>43</td>\n",
       "      <td>None</td>\n",
       "      <td>None</td>\n",
       "      <td>None</td>\n",
       "      <td>None</td>\n",
       "      <td>None</td>\n",
       "    </tr>\n",
       "    <tr>\n",
       "      <th>120</th>\n",
       "      <td>1670378447847</td>\n",
       "      <td>1</td>\n",
       "      <td>RESISTIVE</td>\n",
       "      <td>68</td>\n",
       "      <td>None</td>\n",
       "      <td>None</td>\n",
       "      <td>None</td>\n",
       "      <td>None</td>\n",
       "      <td>None</td>\n",
       "    </tr>\n",
       "    <tr>\n",
       "      <th>55</th>\n",
       "      <td>1670378401851</td>\n",
       "      <td>1</td>\n",
       "      <td>INTEGRATED</td>\n",
       "      <td>15</td>\n",
       "      <td>49</td>\n",
       "      <td>17</td>\n",
       "      <td>1</td>\n",
       "      <td>20</td>\n",
       "      <td>24</td>\n",
       "    </tr>\n",
       "    <tr>\n",
       "      <th>197</th>\n",
       "      <td>1670378387405</td>\n",
       "      <td>1</td>\n",
       "      <td>CAPACITIVE</td>\n",
       "      <td>39</td>\n",
       "      <td>None</td>\n",
       "      <td>None</td>\n",
       "      <td>None</td>\n",
       "      <td>None</td>\n",
       "      <td>None</td>\n",
       "    </tr>\n",
       "    <tr>\n",
       "      <th>239</th>\n",
       "      <td>1670378387389</td>\n",
       "      <td>1</td>\n",
       "      <td>RESISTIVE</td>\n",
       "      <td>55</td>\n",
       "      <td>None</td>\n",
       "      <td>None</td>\n",
       "      <td>None</td>\n",
       "      <td>None</td>\n",
       "      <td>None</td>\n",
       "    </tr>\n",
       "  </tbody>\n",
       "</table>\n",
       "<p>246 rows × 9 columns</p>\n",
       "</div>"
      ],
      "text/plain": [
       "       sample_time device_id sensor_type humidity potassium nitrogen    ph  \\\n",
       "130  1670385406036         1  INTEGRATED        0       213        2     0   \n",
       "114  1670385391603         1  CAPACITIVE       43      None     None  None   \n",
       "150  1670385391588         1   RESISTIVE       93      None     None  None   \n",
       "208  1670385331585         1  CAPACITIVE       51      None     None  None   \n",
       "222  1670385331578         1   RESISTIVE       99      None     None  None   \n",
       "..             ...       ...         ...      ...       ...      ...   ...   \n",
       "52   1670378447860         1  CAPACITIVE       43      None     None  None   \n",
       "120  1670378447847         1   RESISTIVE       68      None     None  None   \n",
       "55   1670378401851         1  INTEGRATED       15        49       17     1   \n",
       "197  1670378387405         1  CAPACITIVE       39      None     None  None   \n",
       "239  1670378387389         1   RESISTIVE       55      None     None  None   \n",
       "\n",
       "    temperature phosphorous  \n",
       "130          24         191  \n",
       "114        None        None  \n",
       "150        None        None  \n",
       "208        None        None  \n",
       "222        None        None  \n",
       "..          ...         ...  \n",
       "52         None        None  \n",
       "120        None        None  \n",
       "55           20          24  \n",
       "197        None        None  \n",
       "239        None        None  \n",
       "\n",
       "[246 rows x 9 columns]"
      ]
     },
     "execution_count": 195,
     "metadata": {},
     "output_type": "execute_result"
    }
   ],
   "source": [
    "response = dynamodb.Table('soil_measures').scan()\n",
    "df = pd.DataFrame([SoilMoisture.json_to_class(t).__dict__ for t in response['Items'] ])\n",
    "df.sort_values(by=['sample_time'], ascending=False)  "
   ]
  },
  {
   "cell_type": "markdown",
   "id": "2c54a5cb",
   "metadata": {},
   "source": [
    "Filter integrated sensor data"
   ]
  },
  {
   "cell_type": "code",
   "execution_count": 196,
   "id": "70b8978f",
   "metadata": {},
   "outputs": [
    {
     "data": {
      "text/html": [
       "<div>\n",
       "<style scoped>\n",
       "    .dataframe tbody tr th:only-of-type {\n",
       "        vertical-align: middle;\n",
       "    }\n",
       "\n",
       "    .dataframe tbody tr th {\n",
       "        vertical-align: top;\n",
       "    }\n",
       "\n",
       "    .dataframe thead th {\n",
       "        text-align: right;\n",
       "    }\n",
       "</style>\n",
       "<table border=\"1\" class=\"dataframe\">\n",
       "  <thead>\n",
       "    <tr style=\"text-align: right;\">\n",
       "      <th></th>\n",
       "      <th>sample_time</th>\n",
       "      <th>device_id</th>\n",
       "      <th>sensor_type</th>\n",
       "      <th>humidity</th>\n",
       "      <th>potassium</th>\n",
       "      <th>nitrogen</th>\n",
       "      <th>ph</th>\n",
       "      <th>temperature</th>\n",
       "      <th>phosphorous</th>\n",
       "    </tr>\n",
       "  </thead>\n",
       "  <tbody>\n",
       "    <tr>\n",
       "      <th>3</th>\n",
       "      <td>1670379847756</td>\n",
       "      <td>1</td>\n",
       "      <td>INTEGRATED</td>\n",
       "      <td>15</td>\n",
       "      <td>54</td>\n",
       "      <td>19</td>\n",
       "      <td>1</td>\n",
       "      <td>20</td>\n",
       "      <td>27</td>\n",
       "    </tr>\n",
       "    <tr>\n",
       "      <th>6</th>\n",
       "      <td>1670384803521</td>\n",
       "      <td>1</td>\n",
       "      <td>INTEGRATED</td>\n",
       "      <td>2</td>\n",
       "      <td>3</td>\n",
       "      <td>48</td>\n",
       "      <td>1</td>\n",
       "      <td>0</td>\n",
       "      <td>56</td>\n",
       "    </tr>\n",
       "    <tr>\n",
       "      <th>8</th>\n",
       "      <td>1670380450217</td>\n",
       "      <td>1</td>\n",
       "      <td>INTEGRATED</td>\n",
       "      <td>15</td>\n",
       "      <td>54</td>\n",
       "      <td>19</td>\n",
       "      <td>1</td>\n",
       "      <td>20</td>\n",
       "      <td>27</td>\n",
       "    </tr>\n",
       "    <tr>\n",
       "      <th>11</th>\n",
       "      <td>1670378883811</td>\n",
       "      <td>1</td>\n",
       "      <td>INTEGRATED</td>\n",
       "      <td>15</td>\n",
       "      <td>50</td>\n",
       "      <td>18</td>\n",
       "      <td>1</td>\n",
       "      <td>20</td>\n",
       "      <td>25</td>\n",
       "    </tr>\n",
       "    <tr>\n",
       "      <th>12</th>\n",
       "      <td>1670379245287</td>\n",
       "      <td>1</td>\n",
       "      <td>INTEGRATED</td>\n",
       "      <td>16</td>\n",
       "      <td>50</td>\n",
       "      <td>18</td>\n",
       "      <td>1</td>\n",
       "      <td>20</td>\n",
       "      <td>25</td>\n",
       "    </tr>\n",
       "    <tr>\n",
       "      <th>15</th>\n",
       "      <td>1670381775638</td>\n",
       "      <td>1</td>\n",
       "      <td>INTEGRATED</td>\n",
       "      <td>15</td>\n",
       "      <td>54</td>\n",
       "      <td>19</td>\n",
       "      <td>1</td>\n",
       "      <td>20</td>\n",
       "      <td>26</td>\n",
       "    </tr>\n",
       "    <tr>\n",
       "      <th>20</th>\n",
       "      <td>1670381534637</td>\n",
       "      <td>1</td>\n",
       "      <td>INTEGRATED</td>\n",
       "      <td>15</td>\n",
       "      <td>55</td>\n",
       "      <td>19</td>\n",
       "      <td>1</td>\n",
       "      <td>20</td>\n",
       "      <td>27</td>\n",
       "    </tr>\n",
       "    <tr>\n",
       "      <th>21</th>\n",
       "      <td>1670379124795</td>\n",
       "      <td>1</td>\n",
       "      <td>INTEGRATED</td>\n",
       "      <td>16</td>\n",
       "      <td>51</td>\n",
       "      <td>18</td>\n",
       "      <td>1</td>\n",
       "      <td>20</td>\n",
       "      <td>25</td>\n",
       "    </tr>\n",
       "    <tr>\n",
       "      <th>23</th>\n",
       "      <td>1670380811755</td>\n",
       "      <td>1</td>\n",
       "      <td>INTEGRATED</td>\n",
       "      <td>15</td>\n",
       "      <td>54</td>\n",
       "      <td>19</td>\n",
       "      <td>1</td>\n",
       "      <td>20</td>\n",
       "      <td>27</td>\n",
       "    </tr>\n",
       "    <tr>\n",
       "      <th>31</th>\n",
       "      <td>1670381655125</td>\n",
       "      <td>1</td>\n",
       "      <td>INTEGRATED</td>\n",
       "      <td>15</td>\n",
       "      <td>54</td>\n",
       "      <td>19</td>\n",
       "      <td>1</td>\n",
       "      <td>20</td>\n",
       "      <td>27</td>\n",
       "    </tr>\n",
       "    <tr>\n",
       "      <th>39</th>\n",
       "      <td>1670383408668</td>\n",
       "      <td>1</td>\n",
       "      <td>INTEGRATED</td>\n",
       "      <td>3</td>\n",
       "      <td>54</td>\n",
       "      <td>0</td>\n",
       "      <td>1</td>\n",
       "      <td>16</td>\n",
       "      <td>0</td>\n",
       "    </tr>\n",
       "    <tr>\n",
       "      <th>50</th>\n",
       "      <td>1670382016662</td>\n",
       "      <td>1</td>\n",
       "      <td>INTEGRATED</td>\n",
       "      <td>15</td>\n",
       "      <td>54</td>\n",
       "      <td>19</td>\n",
       "      <td>1</td>\n",
       "      <td>20</td>\n",
       "      <td>27</td>\n",
       "    </tr>\n",
       "    <tr>\n",
       "      <th>55</th>\n",
       "      <td>1670378401851</td>\n",
       "      <td>1</td>\n",
       "      <td>INTEGRATED</td>\n",
       "      <td>15</td>\n",
       "      <td>49</td>\n",
       "      <td>17</td>\n",
       "      <td>1</td>\n",
       "      <td>20</td>\n",
       "      <td>24</td>\n",
       "    </tr>\n",
       "    <tr>\n",
       "      <th>78</th>\n",
       "      <td>1670378642843</td>\n",
       "      <td>1</td>\n",
       "      <td>INTEGRATED</td>\n",
       "      <td>16</td>\n",
       "      <td>49</td>\n",
       "      <td>18</td>\n",
       "      <td>1</td>\n",
       "      <td>20</td>\n",
       "      <td>25</td>\n",
       "    </tr>\n",
       "    <tr>\n",
       "      <th>90</th>\n",
       "      <td>1670381293655</td>\n",
       "      <td>1</td>\n",
       "      <td>INTEGRATED</td>\n",
       "      <td>15</td>\n",
       "      <td>54</td>\n",
       "      <td>19</td>\n",
       "      <td>1</td>\n",
       "      <td>20</td>\n",
       "      <td>27</td>\n",
       "    </tr>\n",
       "    <tr>\n",
       "      <th>91</th>\n",
       "      <td>1670384247800</td>\n",
       "      <td>1</td>\n",
       "      <td>INTEGRATED</td>\n",
       "      <td>12</td>\n",
       "      <td>240</td>\n",
       "      <td>0</td>\n",
       "      <td>2</td>\n",
       "      <td>0</td>\n",
       "      <td>128</td>\n",
       "    </tr>\n",
       "    <tr>\n",
       "      <th>101</th>\n",
       "      <td>1670383529162</td>\n",
       "      <td>1</td>\n",
       "      <td>INTEGRATED</td>\n",
       "      <td>1</td>\n",
       "      <td>32</td>\n",
       "      <td>2</td>\n",
       "      <td>1</td>\n",
       "      <td>16</td>\n",
       "      <td>128</td>\n",
       "    </tr>\n",
       "    <tr>\n",
       "      <th>105</th>\n",
       "      <td>1670379727256</td>\n",
       "      <td>1</td>\n",
       "      <td>INTEGRATED</td>\n",
       "      <td>15</td>\n",
       "      <td>54</td>\n",
       "      <td>19</td>\n",
       "      <td>1</td>\n",
       "      <td>20</td>\n",
       "      <td>27</td>\n",
       "    </tr>\n",
       "    <tr>\n",
       "      <th>107</th>\n",
       "      <td>1670380329832</td>\n",
       "      <td>1</td>\n",
       "      <td>INTEGRATED</td>\n",
       "      <td>15</td>\n",
       "      <td>54</td>\n",
       "      <td>19</td>\n",
       "      <td>1</td>\n",
       "      <td>20</td>\n",
       "      <td>27</td>\n",
       "    </tr>\n",
       "    <tr>\n",
       "      <th>110</th>\n",
       "      <td>1670381896109</td>\n",
       "      <td>1</td>\n",
       "      <td>INTEGRATED</td>\n",
       "      <td>15</td>\n",
       "      <td>54</td>\n",
       "      <td>19</td>\n",
       "      <td>1</td>\n",
       "      <td>20</td>\n",
       "      <td>27</td>\n",
       "    </tr>\n",
       "    <tr>\n",
       "      <th>121</th>\n",
       "      <td>1670381052668</td>\n",
       "      <td>1</td>\n",
       "      <td>INTEGRATED</td>\n",
       "      <td>15</td>\n",
       "      <td>54</td>\n",
       "      <td>19</td>\n",
       "      <td>1</td>\n",
       "      <td>20</td>\n",
       "      <td>27</td>\n",
       "    </tr>\n",
       "    <tr>\n",
       "      <th>129</th>\n",
       "      <td>1670380570760</td>\n",
       "      <td>1</td>\n",
       "      <td>INTEGRATED</td>\n",
       "      <td>15</td>\n",
       "      <td>54</td>\n",
       "      <td>19</td>\n",
       "      <td>1</td>\n",
       "      <td>20</td>\n",
       "      <td>27</td>\n",
       "    </tr>\n",
       "    <tr>\n",
       "      <th>130</th>\n",
       "      <td>1670385406036</td>\n",
       "      <td>1</td>\n",
       "      <td>INTEGRATED</td>\n",
       "      <td>0</td>\n",
       "      <td>213</td>\n",
       "      <td>2</td>\n",
       "      <td>0</td>\n",
       "      <td>24</td>\n",
       "      <td>191</td>\n",
       "    </tr>\n",
       "    <tr>\n",
       "      <th>131</th>\n",
       "      <td>1670379968246</td>\n",
       "      <td>1</td>\n",
       "      <td>INTEGRATED</td>\n",
       "      <td>15</td>\n",
       "      <td>55</td>\n",
       "      <td>19</td>\n",
       "      <td>1</td>\n",
       "      <td>20</td>\n",
       "      <td>27</td>\n",
       "    </tr>\n",
       "    <tr>\n",
       "      <th>143</th>\n",
       "      <td>1670379606759</td>\n",
       "      <td>1</td>\n",
       "      <td>INTEGRATED</td>\n",
       "      <td>15</td>\n",
       "      <td>54</td>\n",
       "      <td>19</td>\n",
       "      <td>1</td>\n",
       "      <td>20</td>\n",
       "      <td>27</td>\n",
       "    </tr>\n",
       "    <tr>\n",
       "      <th>149</th>\n",
       "      <td>1670380088736</td>\n",
       "      <td>1</td>\n",
       "      <td>INTEGRATED</td>\n",
       "      <td>15</td>\n",
       "      <td>54</td>\n",
       "      <td>19</td>\n",
       "      <td>1</td>\n",
       "      <td>20</td>\n",
       "      <td>27</td>\n",
       "    </tr>\n",
       "    <tr>\n",
       "      <th>153</th>\n",
       "      <td>1670382257585</td>\n",
       "      <td>1</td>\n",
       "      <td>INTEGRATED</td>\n",
       "      <td>15</td>\n",
       "      <td>54</td>\n",
       "      <td>19</td>\n",
       "      <td>1</td>\n",
       "      <td>20</td>\n",
       "      <td>27</td>\n",
       "    </tr>\n",
       "    <tr>\n",
       "      <th>155</th>\n",
       "      <td>1670381173170</td>\n",
       "      <td>1</td>\n",
       "      <td>INTEGRATED</td>\n",
       "      <td>15</td>\n",
       "      <td>54</td>\n",
       "      <td>19</td>\n",
       "      <td>1</td>\n",
       "      <td>20</td>\n",
       "      <td>27</td>\n",
       "    </tr>\n",
       "    <tr>\n",
       "      <th>158</th>\n",
       "      <td>1670380932180</td>\n",
       "      <td>1</td>\n",
       "      <td>INTEGRATED</td>\n",
       "      <td>15</td>\n",
       "      <td>54</td>\n",
       "      <td>19</td>\n",
       "      <td>1</td>\n",
       "      <td>20</td>\n",
       "      <td>27</td>\n",
       "    </tr>\n",
       "    <tr>\n",
       "      <th>161</th>\n",
       "      <td>1670378522328</td>\n",
       "      <td>1</td>\n",
       "      <td>INTEGRATED</td>\n",
       "      <td>16</td>\n",
       "      <td>50</td>\n",
       "      <td>17</td>\n",
       "      <td>1</td>\n",
       "      <td>20</td>\n",
       "      <td>25</td>\n",
       "    </tr>\n",
       "    <tr>\n",
       "      <th>170</th>\n",
       "      <td>1670380691195</td>\n",
       "      <td>1</td>\n",
       "      <td>INTEGRATED</td>\n",
       "      <td>15</td>\n",
       "      <td>55</td>\n",
       "      <td>19</td>\n",
       "      <td>1</td>\n",
       "      <td>20</td>\n",
       "      <td>27</td>\n",
       "    </tr>\n",
       "    <tr>\n",
       "      <th>174</th>\n",
       "      <td>1670378763339</td>\n",
       "      <td>1</td>\n",
       "      <td>INTEGRATED</td>\n",
       "      <td>16</td>\n",
       "      <td>51</td>\n",
       "      <td>17</td>\n",
       "      <td>1</td>\n",
       "      <td>20</td>\n",
       "      <td>25</td>\n",
       "    </tr>\n",
       "    <tr>\n",
       "      <th>175</th>\n",
       "      <td>1670379486280</td>\n",
       "      <td>1</td>\n",
       "      <td>INTEGRATED</td>\n",
       "      <td>15</td>\n",
       "      <td>51</td>\n",
       "      <td>18</td>\n",
       "      <td>1</td>\n",
       "      <td>20</td>\n",
       "      <td>25</td>\n",
       "    </tr>\n",
       "    <tr>\n",
       "      <th>182</th>\n",
       "      <td>1670385044522</td>\n",
       "      <td>1</td>\n",
       "      <td>INTEGRATED</td>\n",
       "      <td>24</td>\n",
       "      <td>0</td>\n",
       "      <td>3</td>\n",
       "      <td>0</td>\n",
       "      <td>21</td>\n",
       "      <td>28</td>\n",
       "    </tr>\n",
       "    <tr>\n",
       "      <th>183</th>\n",
       "      <td>1670379365778</td>\n",
       "      <td>1</td>\n",
       "      <td>INTEGRATED</td>\n",
       "      <td>16</td>\n",
       "      <td>51</td>\n",
       "      <td>18</td>\n",
       "      <td>1</td>\n",
       "      <td>20</td>\n",
       "      <td>25</td>\n",
       "    </tr>\n",
       "    <tr>\n",
       "      <th>186</th>\n",
       "      <td>1670382137104</td>\n",
       "      <td>1</td>\n",
       "      <td>INTEGRATED</td>\n",
       "      <td>15</td>\n",
       "      <td>54</td>\n",
       "      <td>19</td>\n",
       "      <td>1</td>\n",
       "      <td>20</td>\n",
       "      <td>27</td>\n",
       "    </tr>\n",
       "    <tr>\n",
       "      <th>192</th>\n",
       "      <td>1670384368306</td>\n",
       "      <td>1</td>\n",
       "      <td>INTEGRATED</td>\n",
       "      <td>0</td>\n",
       "      <td>255</td>\n",
       "      <td>3</td>\n",
       "      <td>0</td>\n",
       "      <td>24</td>\n",
       "      <td>28</td>\n",
       "    </tr>\n",
       "    <tr>\n",
       "      <th>196</th>\n",
       "      <td>1670381414143</td>\n",
       "      <td>1</td>\n",
       "      <td>INTEGRATED</td>\n",
       "      <td>15</td>\n",
       "      <td>54</td>\n",
       "      <td>19</td>\n",
       "      <td>1</td>\n",
       "      <td>20</td>\n",
       "      <td>27</td>\n",
       "    </tr>\n",
       "    <tr>\n",
       "      <th>220</th>\n",
       "      <td>1670380209229</td>\n",
       "      <td>1</td>\n",
       "      <td>INTEGRATED</td>\n",
       "      <td>15</td>\n",
       "      <td>55</td>\n",
       "      <td>19</td>\n",
       "      <td>1</td>\n",
       "      <td>20</td>\n",
       "      <td>27</td>\n",
       "    </tr>\n",
       "    <tr>\n",
       "      <th>221</th>\n",
       "      <td>1670383167674</td>\n",
       "      <td>1</td>\n",
       "      <td>INTEGRATED</td>\n",
       "      <td>24</td>\n",
       "      <td>128</td>\n",
       "      <td>0</td>\n",
       "      <td>0</td>\n",
       "      <td>2</td>\n",
       "      <td>19</td>\n",
       "    </tr>\n",
       "    <tr>\n",
       "      <th>229</th>\n",
       "      <td>1670379004360</td>\n",
       "      <td>1</td>\n",
       "      <td>INTEGRATED</td>\n",
       "      <td>16</td>\n",
       "      <td>51</td>\n",
       "      <td>17</td>\n",
       "      <td>1</td>\n",
       "      <td>20</td>\n",
       "      <td>25</td>\n",
       "    </tr>\n",
       "    <tr>\n",
       "      <th>242</th>\n",
       "      <td>1670382378077</td>\n",
       "      <td>1</td>\n",
       "      <td>INTEGRATED</td>\n",
       "      <td>15</td>\n",
       "      <td>54</td>\n",
       "      <td>19</td>\n",
       "      <td>1</td>\n",
       "      <td>20</td>\n",
       "      <td>27</td>\n",
       "    </tr>\n",
       "    <tr>\n",
       "      <th>245</th>\n",
       "      <td>1670382498569</td>\n",
       "      <td>1</td>\n",
       "      <td>INTEGRATED</td>\n",
       "      <td>15</td>\n",
       "      <td>54</td>\n",
       "      <td>19</td>\n",
       "      <td>1</td>\n",
       "      <td>20</td>\n",
       "      <td>27</td>\n",
       "    </tr>\n",
       "  </tbody>\n",
       "</table>\n",
       "</div>"
      ],
      "text/plain": [
       "       sample_time device_id sensor_type humidity potassium nitrogen ph  \\\n",
       "3    1670379847756         1  INTEGRATED       15        54       19  1   \n",
       "6    1670384803521         1  INTEGRATED        2         3       48  1   \n",
       "8    1670380450217         1  INTEGRATED       15        54       19  1   \n",
       "11   1670378883811         1  INTEGRATED       15        50       18  1   \n",
       "12   1670379245287         1  INTEGRATED       16        50       18  1   \n",
       "15   1670381775638         1  INTEGRATED       15        54       19  1   \n",
       "20   1670381534637         1  INTEGRATED       15        55       19  1   \n",
       "21   1670379124795         1  INTEGRATED       16        51       18  1   \n",
       "23   1670380811755         1  INTEGRATED       15        54       19  1   \n",
       "31   1670381655125         1  INTEGRATED       15        54       19  1   \n",
       "39   1670383408668         1  INTEGRATED        3        54        0  1   \n",
       "50   1670382016662         1  INTEGRATED       15        54       19  1   \n",
       "55   1670378401851         1  INTEGRATED       15        49       17  1   \n",
       "78   1670378642843         1  INTEGRATED       16        49       18  1   \n",
       "90   1670381293655         1  INTEGRATED       15        54       19  1   \n",
       "91   1670384247800         1  INTEGRATED       12       240        0  2   \n",
       "101  1670383529162         1  INTEGRATED        1        32        2  1   \n",
       "105  1670379727256         1  INTEGRATED       15        54       19  1   \n",
       "107  1670380329832         1  INTEGRATED       15        54       19  1   \n",
       "110  1670381896109         1  INTEGRATED       15        54       19  1   \n",
       "121  1670381052668         1  INTEGRATED       15        54       19  1   \n",
       "129  1670380570760         1  INTEGRATED       15        54       19  1   \n",
       "130  1670385406036         1  INTEGRATED        0       213        2  0   \n",
       "131  1670379968246         1  INTEGRATED       15        55       19  1   \n",
       "143  1670379606759         1  INTEGRATED       15        54       19  1   \n",
       "149  1670380088736         1  INTEGRATED       15        54       19  1   \n",
       "153  1670382257585         1  INTEGRATED       15        54       19  1   \n",
       "155  1670381173170         1  INTEGRATED       15        54       19  1   \n",
       "158  1670380932180         1  INTEGRATED       15        54       19  1   \n",
       "161  1670378522328         1  INTEGRATED       16        50       17  1   \n",
       "170  1670380691195         1  INTEGRATED       15        55       19  1   \n",
       "174  1670378763339         1  INTEGRATED       16        51       17  1   \n",
       "175  1670379486280         1  INTEGRATED       15        51       18  1   \n",
       "182  1670385044522         1  INTEGRATED       24         0        3  0   \n",
       "183  1670379365778         1  INTEGRATED       16        51       18  1   \n",
       "186  1670382137104         1  INTEGRATED       15        54       19  1   \n",
       "192  1670384368306         1  INTEGRATED        0       255        3  0   \n",
       "196  1670381414143         1  INTEGRATED       15        54       19  1   \n",
       "220  1670380209229         1  INTEGRATED       15        55       19  1   \n",
       "221  1670383167674         1  INTEGRATED       24       128        0  0   \n",
       "229  1670379004360         1  INTEGRATED       16        51       17  1   \n",
       "242  1670382378077         1  INTEGRATED       15        54       19  1   \n",
       "245  1670382498569         1  INTEGRATED       15        54       19  1   \n",
       "\n",
       "    temperature phosphorous  \n",
       "3            20          27  \n",
       "6             0          56  \n",
       "8            20          27  \n",
       "11           20          25  \n",
       "12           20          25  \n",
       "15           20          26  \n",
       "20           20          27  \n",
       "21           20          25  \n",
       "23           20          27  \n",
       "31           20          27  \n",
       "39           16           0  \n",
       "50           20          27  \n",
       "55           20          24  \n",
       "78           20          25  \n",
       "90           20          27  \n",
       "91            0         128  \n",
       "101          16         128  \n",
       "105          20          27  \n",
       "107          20          27  \n",
       "110          20          27  \n",
       "121          20          27  \n",
       "129          20          27  \n",
       "130          24         191  \n",
       "131          20          27  \n",
       "143          20          27  \n",
       "149          20          27  \n",
       "153          20          27  \n",
       "155          20          27  \n",
       "158          20          27  \n",
       "161          20          25  \n",
       "170          20          27  \n",
       "174          20          25  \n",
       "175          20          25  \n",
       "182          21          28  \n",
       "183          20          25  \n",
       "186          20          27  \n",
       "192          24          28  \n",
       "196          20          27  \n",
       "220          20          27  \n",
       "221           2          19  \n",
       "229          20          25  \n",
       "242          20          27  \n",
       "245          20          27  "
      ]
     },
     "execution_count": 196,
     "metadata": {},
     "output_type": "execute_result"
    }
   ],
   "source": [
    "integrated_sensor_df = df[df.sensor_type == \"INTEGRATED\"]\n",
    "integrated_sensor_df"
   ]
  },
  {
   "cell_type": "markdown",
   "id": "5571c6cb",
   "metadata": {},
   "source": [
    "## 2. Análisis de datos"
   ]
  },
  {
   "cell_type": "code",
   "execution_count": 197,
   "id": "ff1a3de4",
   "metadata": {},
   "outputs": [
    {
     "name": "stderr",
     "output_type": "stream",
     "text": [
      "/var/folders/zr/5cp0kjw90ldcs2bbgq01m31w0000gn/T/ipykernel_65687/2628222138.py:4: SettingWithCopyWarning:\n",
      "\n",
      "\n",
      "A value is trying to be set on a copy of a slice from a DataFrame.\n",
      "Try using .loc[row_indexer,col_indexer] = value instead\n",
      "\n",
      "See the caveats in the documentation: https://pandas.pydata.org/pandas-docs/stable/user_guide/indexing.html#returning-a-view-versus-a-copy\n",
      "\n",
      "/var/folders/zr/5cp0kjw90ldcs2bbgq01m31w0000gn/T/ipykernel_65687/2628222138.py:5: SettingWithCopyWarning:\n",
      "\n",
      "\n",
      "A value is trying to be set on a copy of a slice from a DataFrame.\n",
      "Try using .loc[row_indexer,col_indexer] = value instead\n",
      "\n",
      "See the caveats in the documentation: https://pandas.pydata.org/pandas-docs/stable/user_guide/indexing.html#returning-a-view-versus-a-copy\n",
      "\n"
     ]
    },
    {
     "data": {
      "text/plain": [
       "3     2022-12-06 21:24:07.756\n",
       "6     2022-12-06 22:46:43.521\n",
       "8     2022-12-06 21:34:10.217\n",
       "11    2022-12-06 21:08:03.811\n",
       "12    2022-12-06 21:14:05.287\n",
       "15    2022-12-06 21:56:15.638\n",
       "20    2022-12-06 21:52:14.637\n",
       "21    2022-12-06 21:12:04.795\n",
       "23    2022-12-06 21:40:11.755\n",
       "31    2022-12-06 21:54:15.125\n",
       "39    2022-12-06 22:23:28.668\n",
       "50    2022-12-06 22:00:16.662\n",
       "55    2022-12-06 21:00:01.851\n",
       "78    2022-12-06 21:04:02.843\n",
       "90    2022-12-06 21:48:13.655\n",
       "91    2022-12-06 22:37:27.800\n",
       "101   2022-12-06 22:25:29.162\n",
       "105   2022-12-06 21:22:07.256\n",
       "107   2022-12-06 21:32:09.832\n",
       "110   2022-12-06 21:58:16.109\n",
       "121   2022-12-06 21:44:12.668\n",
       "129   2022-12-06 21:36:10.760\n",
       "130   2022-12-06 22:56:46.036\n",
       "131   2022-12-06 21:26:08.246\n",
       "143   2022-12-06 21:20:06.759\n",
       "149   2022-12-06 21:28:08.736\n",
       "153   2022-12-06 22:04:17.585\n",
       "155   2022-12-06 21:46:13.170\n",
       "158   2022-12-06 21:42:12.180\n",
       "161   2022-12-06 21:02:02.328\n",
       "170   2022-12-06 21:38:11.195\n",
       "174   2022-12-06 21:06:03.339\n",
       "175   2022-12-06 21:18:06.280\n",
       "182   2022-12-06 22:50:44.522\n",
       "183   2022-12-06 21:16:05.778\n",
       "186   2022-12-06 22:02:17.104\n",
       "192   2022-12-06 22:39:28.306\n",
       "196   2022-12-06 21:50:14.143\n",
       "220   2022-12-06 21:30:09.229\n",
       "221   2022-12-06 22:19:27.674\n",
       "229   2022-12-06 21:10:04.360\n",
       "242   2022-12-06 22:06:18.077\n",
       "245   2022-12-06 22:08:18.569\n",
       "Name: sample_time, dtype: datetime64[ns]"
      ]
     },
     "execution_count": 197,
     "metadata": {},
     "output_type": "execute_result"
    }
   ],
   "source": [
    "def transform_to_date(x):\n",
    "    return datetime.fromtimestamp(x/1000)\n",
    "\n",
    "integrated_sensor_df.sample_time = integrated_sensor_df.sample_time.astype(int)\n",
    "integrated_sensor_df.sample_time = integrated_sensor_df.sample_time.map(transform_to_date)\n",
    "\n",
    "integrated_sensor_df.sample_time\n"
   ]
  },
  {
   "cell_type": "code",
   "execution_count": 198,
   "id": "c9614f01",
   "metadata": {},
   "outputs": [],
   "source": [
    "values_sample_time = integrated_sensor_df.sample_time.to_numpy()\n"
   ]
  },
  {
   "cell_type": "code",
   "execution_count": 199,
   "id": "c1aa6e19",
   "metadata": {
    "scrolled": true
   },
   "outputs": [
    {
     "data": {
      "text/plain": [
       "array(['2022-12-06T21:24:07.756000000', '2022-12-06T22:46:43.521000000',\n",
       "       '2022-12-06T21:34:10.217000000', '2022-12-06T21:08:03.811000000',\n",
       "       '2022-12-06T21:14:05.287000000', '2022-12-06T21:56:15.638000000',\n",
       "       '2022-12-06T21:52:14.637000000', '2022-12-06T21:12:04.795000000',\n",
       "       '2022-12-06T21:40:11.755000000', '2022-12-06T21:54:15.125000000',\n",
       "       '2022-12-06T22:23:28.668000000', '2022-12-06T22:00:16.662000000',\n",
       "       '2022-12-06T21:00:01.851000000', '2022-12-06T21:04:02.843000000',\n",
       "       '2022-12-06T21:48:13.655000000', '2022-12-06T22:37:27.800000000',\n",
       "       '2022-12-06T22:25:29.162000000', '2022-12-06T21:22:07.256000000',\n",
       "       '2022-12-06T21:32:09.832000000', '2022-12-06T21:58:16.109000000',\n",
       "       '2022-12-06T21:44:12.668000000', '2022-12-06T21:36:10.760000000',\n",
       "       '2022-12-06T22:56:46.036000000', '2022-12-06T21:26:08.246000000',\n",
       "       '2022-12-06T21:20:06.759000000', '2022-12-06T21:28:08.736000000',\n",
       "       '2022-12-06T22:04:17.585000000', '2022-12-06T21:46:13.170000000',\n",
       "       '2022-12-06T21:42:12.180000000', '2022-12-06T21:02:02.328000000',\n",
       "       '2022-12-06T21:38:11.195000000', '2022-12-06T21:06:03.339000000',\n",
       "       '2022-12-06T21:18:06.280000000', '2022-12-06T22:50:44.522000000',\n",
       "       '2022-12-06T21:16:05.778000000', '2022-12-06T22:02:17.104000000',\n",
       "       '2022-12-06T22:39:28.306000000', '2022-12-06T21:50:14.143000000',\n",
       "       '2022-12-06T21:30:09.229000000', '2022-12-06T22:19:27.674000000',\n",
       "       '2022-12-06T21:10:04.360000000', '2022-12-06T22:06:18.077000000',\n",
       "       '2022-12-06T22:08:18.569000000'], dtype='datetime64[ns]')"
      ]
     },
     "execution_count": 199,
     "metadata": {},
     "output_type": "execute_result"
    }
   ],
   "source": [
    "values_sample_time\n"
   ]
  },
  {
   "cell_type": "markdown",
   "id": "c1b61daa",
   "metadata": {},
   "source": [
    "### Humedad"
   ]
  },
  {
   "cell_type": "code",
   "execution_count": 200,
   "id": "f2c49e64",
   "metadata": {
    "scrolled": true
   },
   "outputs": [
    {
     "data": {
      "text/plain": [
       "array([Decimal('15'), Decimal('2'), Decimal('15'), Decimal('15'),\n",
       "       Decimal('16'), Decimal('15'), Decimal('15'), Decimal('16'),\n",
       "       Decimal('15'), Decimal('15'), Decimal('3'), Decimal('15'),\n",
       "       Decimal('15'), Decimal('16'), Decimal('15'), Decimal('12'),\n",
       "       Decimal('1'), Decimal('15'), Decimal('15'), Decimal('15'),\n",
       "       Decimal('15'), Decimal('15'), Decimal('0'), Decimal('15'),\n",
       "       Decimal('15'), Decimal('15'), Decimal('15'), Decimal('15'),\n",
       "       Decimal('15'), Decimal('16'), Decimal('15'), Decimal('16'),\n",
       "       Decimal('15'), Decimal('24'), Decimal('16'), Decimal('15'),\n",
       "       Decimal('0'), Decimal('15'), Decimal('15'), Decimal('24'),\n",
       "       Decimal('16'), Decimal('15'), Decimal('15')], dtype=object)"
      ]
     },
     "execution_count": 200,
     "metadata": {},
     "output_type": "execute_result"
    }
   ],
   "source": [
    "humidity = integrated_sensor_df.humidity.to_numpy()\n",
    "humidity"
   ]
  },
  {
   "cell_type": "markdown",
   "id": "bba5d5d3",
   "metadata": {},
   "source": [
    "#### Valores estadísticos"
   ]
  },
  {
   "cell_type": "code",
   "execution_count": 201,
   "id": "2ac52e43",
   "metadata": {},
   "outputs": [
    {
     "name": "stdout",
     "output_type": "stream",
     "text": [
      "Mínimo: \t\t 0\n",
      "Máximo: \t\t 24\n",
      "Mediana: \t\t 15\n",
      "Media: \t\t\t 13.90697674418604651162790698\n",
      "Desviación estándar: \t 5.024655274480642802533060355\n",
      "Varianza: \t\t 25.24716062736614386154678205\n"
     ]
    }
   ],
   "source": [
    "print(\"Mínimo: \\t\\t\", np.amin(humidity))\n",
    "print(\"Máximo: \\t\\t\", np.amax(humidity))\n",
    "print(\"Mediana: \\t\\t\", np.median(humidity))\n",
    "print(\"Media: \\t\\t\\t\", np.mean(humidity))\n",
    "print(\"Desviación estándar: \\t\", np.std(humidity))\n",
    "print(\"Varianza: \\t\\t\", np.var(humidity))"
   ]
  },
  {
   "cell_type": "markdown",
   "id": "92f79c70",
   "metadata": {},
   "source": [
    "#### Gráfica de puntos"
   ]
  },
  {
   "cell_type": "code",
   "execution_count": 180,
   "id": "378861fa",
   "metadata": {},
   "outputs": [
    {
     "data": {
      "text/plain": [
       "Text(0.5, 0, 'Time')"
      ]
     },
     "execution_count": 180,
     "metadata": {},
     "output_type": "execute_result"
    },
    {
     "data": {
      "image/png": "[encoded data removed]",
      "text/plain": [
       "<Figure size 640x480 with 1 Axes>"
      ]
     },
     "metadata": {},
     "output_type": "display_data"
    }
   ],
   "source": [
    "fig, ax = plt.subplots()\n",
    "ax.scatter(values_sample_time, humidity, c=\"green\", alpha=0.5)\n",
    "plt.xticks(rotation=45)\n",
    "plt.axhline(y=np.nanmean(humidity), color='red', linestyle='--', linewidth=1, label='Avg')\n",
    "ax.set_ylabel(\"RH\")\n",
    "ax.set_xlabel(\"Time\")\n"
   ]
  },
  {
   "cell_type": "markdown",
   "id": "6ae9f5e8",
   "metadata": {},
   "source": [
    "**Análisis:** \n",
    "\n",
    "Considerando los valores estadísticos obtenidos y la gráfica.\n",
    "Se tiene una humedad relativa (RH) promedio de 15 y una media con un valor de 13,90. Dado que la humedad relativa se representa en porcentaje, se puede inferir que de acuerdo a los datos se tiene una humedad promedio de 15%RH\n",
    "\n",
    "De acuerdo con la literatura revisada, el requerimiento agroclimático para el cultivo de repollo, en lo que refiere a la humedad relativa, se espera que este en un porcentaje de 60% a 80%. \n",
    "\n"
   ]
  },
  {
   "cell_type": "markdown",
   "id": "e4e4c8b4",
   "metadata": {},
   "source": [
    "### Temperatura"
   ]
  },
  {
   "cell_type": "code",
   "execution_count": 202,
   "id": "3731afcc",
   "metadata": {
    "scrolled": false
   },
   "outputs": [
    {
     "data": {
      "text/plain": [
       "array([Decimal('20'), Decimal('0'), Decimal('20'), Decimal('20'),\n",
       "       Decimal('20'), Decimal('20'), Decimal('20'), Decimal('20'),\n",
       "       Decimal('20'), Decimal('20'), Decimal('16'), Decimal('20'),\n",
       "       Decimal('20'), Decimal('20'), Decimal('20'), Decimal('0'),\n",
       "       Decimal('16'), Decimal('20'), Decimal('20'), Decimal('20'),\n",
       "       Decimal('20'), Decimal('20'), Decimal('24'), Decimal('20'),\n",
       "       Decimal('20'), Decimal('20'), Decimal('20'), Decimal('20'),\n",
       "       Decimal('20'), Decimal('20'), Decimal('20'), Decimal('20'),\n",
       "       Decimal('20'), Decimal('21'), Decimal('20'), Decimal('20'),\n",
       "       Decimal('24'), Decimal('20'), Decimal('20'), Decimal('2'),\n",
       "       Decimal('20'), Decimal('20'), Decimal('20')], dtype=object)"
      ]
     },
     "execution_count": 202,
     "metadata": {},
     "output_type": "execute_result"
    }
   ],
   "source": [
    "temperature = integrated_sensor_df.temperature.to_numpy()\n",
    "temperature"
   ]
  },
  {
   "cell_type": "markdown",
   "id": "d28a1a6e",
   "metadata": {},
   "source": [
    "#### Valores estadísticos"
   ]
  },
  {
   "cell_type": "code",
   "execution_count": 203,
   "id": "5b6d2148",
   "metadata": {},
   "outputs": [
    {
     "name": "stdout",
     "output_type": "stream",
     "text": [
      "Mínimo: \t\t 0\n",
      "Máximo: \t\t 24\n",
      "Mediana: \t\t 20\n",
      "Media: \t\t\t 18.67441860465116279069767442\n",
      "Desviación estándar: \t 5.088614423888167237997898044\n",
      "Varianza: \t\t 25.89399675500270416441319630\n"
     ]
    }
   ],
   "source": [
    "print(\"Mínimo: \\t\\t\", np.amin(temperature))\n",
    "print(\"Máximo: \\t\\t\", np.amax(temperature))\n",
    "print(\"Mediana: \\t\\t\", np.median(temperature))\n",
    "print(\"Media: \\t\\t\\t\", np.mean(temperature))\n",
    "print(\"Desviación estándar: \\t\", np.std(temperature))\n",
    "print(\"Varianza: \\t\\t\", np.var(temperature))"
   ]
  },
  {
   "cell_type": "markdown",
   "id": "09981b67",
   "metadata": {},
   "source": [
    "#### Gráfica de puntos"
   ]
  },
  {
   "cell_type": "code",
   "execution_count": 204,
   "id": "7644abfc",
   "metadata": {},
   "outputs": [
    {
     "data": {
      "text/plain": [
       "Text(0.5, 0, 'Time')"
      ]
     },
     "execution_count": 204,
     "metadata": {},
     "output_type": "execute_result"
    },
    {
     "data": {
      "image/png": "[encoded data removed]",
      "text/plain": [
       "<Figure size 640x480 with 1 Axes>"
      ]
     },
     "metadata": {},
     "output_type": "display_data"
    }
   ],
   "source": [
    "fig, ax = plt.subplots()\n",
    "ax.scatter(values_sample_time, temperature, c=\"green\", alpha=0.5)\n",
    "plt.xticks(rotation=45)\n",
    "plt.axhline(y=np.nanmean(temperature), color='red', linestyle='--', linewidth=1, label='Avg')\n",
    "ax.set_ylabel(\"°C\")\n",
    "ax.set_xlabel(\"Time\")"
   ]
  },
  {
   "cell_type": "markdown",
   "id": "6f8667c4",
   "metadata": {},
   "source": [
    "**Análisis:** \n",
    "\n",
    "Considerando los valores estadísticos obtenidos y la gráfica. Se tiene una temperatura en grados centígrados (°C) promedio de 20 y una media con un valor de 18,68. \n",
    "\n",
    "De acuerdo con la literatura revisada, el requerimiento agroclimático para el cultivo de repollo, en lo que refiere a la temperatura, se espera que este en un porcentaje de °C 15% - 20%.\n",
    "\n",
    "En este caso, el semillero de prueba cuenta con una temperatura que está alcanzando el umbral de los valores esperados. Lo ideal es que este este entre los valores 15 - 20 y no en el mínimo o máximo."
   ]
  },
  {
   "cell_type": "markdown",
   "id": "afeb13a1",
   "metadata": {},
   "source": [
    "### pH"
   ]
  },
  {
   "cell_type": "code",
   "execution_count": 205,
   "id": "7a5f110e",
   "metadata": {
    "scrolled": false
   },
   "outputs": [
    {
     "data": {
      "text/plain": [
       "array([Decimal('1'), Decimal('1'), Decimal('1'), Decimal('1'),\n",
       "       Decimal('1'), Decimal('1'), Decimal('1'), Decimal('1'),\n",
       "       Decimal('1'), Decimal('1'), Decimal('1'), Decimal('1'),\n",
       "       Decimal('1'), Decimal('1'), Decimal('1'), Decimal('2'),\n",
       "       Decimal('1'), Decimal('1'), Decimal('1'), Decimal('1'),\n",
       "       Decimal('1'), Decimal('1'), Decimal('0'), Decimal('1'),\n",
       "       Decimal('1'), Decimal('1'), Decimal('1'), Decimal('1'),\n",
       "       Decimal('1'), Decimal('1'), Decimal('1'), Decimal('1'),\n",
       "       Decimal('1'), Decimal('0'), Decimal('1'), Decimal('1'),\n",
       "       Decimal('0'), Decimal('1'), Decimal('1'), Decimal('0'),\n",
       "       Decimal('1'), Decimal('1'), Decimal('1')], dtype=object)"
      ]
     },
     "execution_count": 205,
     "metadata": {},
     "output_type": "execute_result"
    }
   ],
   "source": [
    "pH = integrated_sensor_df.ph.to_numpy()\n",
    "pH"
   ]
  },
  {
   "cell_type": "markdown",
   "id": "2cd2457f",
   "metadata": {},
   "source": [
    "#### Valores estadísticos"
   ]
  },
  {
   "cell_type": "code",
   "execution_count": 206,
   "id": "f29c3f5c",
   "metadata": {},
   "outputs": [
    {
     "name": "stdout",
     "output_type": "stream",
     "text": [
      "Mínimo: \t\t 0\n",
      "Máximo: \t\t 2\n",
      "Mediana: \t\t 1\n",
      "Media: \t\t\t 0.9302325581395348837209302326\n",
      "Desviación estándar: \t 0.3337837231257517150466116193\n",
      "Varianza: \t\t 0.1114115738236884802595997835\n"
     ]
    }
   ],
   "source": [
    "print(\"Mínimo: \\t\\t\", np.amin(pH))\n",
    "print(\"Máximo: \\t\\t\", np.amax(pH))\n",
    "print(\"Mediana: \\t\\t\", np.median(pH))\n",
    "print(\"Media: \\t\\t\\t\", np.mean(pH))\n",
    "print(\"Desviación estándar: \\t\", np.std(pH))\n",
    "print(\"Varianza: \\t\\t\", np.var(pH))"
   ]
  },
  {
   "cell_type": "markdown",
   "id": "6e8289ed",
   "metadata": {},
   "source": [
    "#### Gráfica de puntos"
   ]
  },
  {
   "cell_type": "code",
   "execution_count": 208,
   "id": "15267975",
   "metadata": {},
   "outputs": [
    {
     "data": {
      "text/plain": [
       "Text(0.5, 0, 'Time')"
      ]
     },
     "execution_count": 208,
     "metadata": {},
     "output_type": "execute_result"
    },
    {
     "data": {
      "image/png": "[encoded data removed]",
      "text/plain": [
       "<Figure size 640x480 with 1 Axes>"
      ]
     },
     "metadata": {},
     "output_type": "display_data"
    }
   ],
   "source": [
    "fig, ax = plt.subplots()\n",
    "ax.scatter(values_sample_time, pH, c=\"green\", alpha=0.5)\n",
    "plt.xticks(rotation=45)\n",
    "plt.axhline(y=np.nanmean(pH), color='red', linestyle='--', linewidth=1, label='Avg')\n",
    "ax.set_ylabel(\"pH\")\n",
    "ax.set_xlabel(\"Time\")"
   ]
  },
  {
   "cell_type": "markdown",
   "id": "c6613d05",
   "metadata": {},
   "source": [
    "**Análisis:** \n",
    "\n",
    "Considerando los valores estadísticos obtenidos y la gráfica. \n",
    "El pH se tiene como promedio 1 y una media con un valor de 0,93. \n",
    "\n",
    "De acuerdo con la literatura revisada, el requerimiento agroclimático para el cultivo de repollo, en lo que refiere a la pH, se espera que este en un rango de 5.5 - 6.8.\n",
    "\n",
    "En este caso, el semillero de prueba se obtienen valores de 1."
   ]
  },
  {
   "cell_type": "markdown",
   "id": "c96728d3",
   "metadata": {},
   "source": [
    "### Nitrógeno"
   ]
  },
  {
   "cell_type": "code",
   "execution_count": 184,
   "id": "5969a55d",
   "metadata": {},
   "outputs": [
    {
     "data": {
      "text/plain": [
       "array([Decimal('19'), Decimal('48'), Decimal('19'), Decimal('18'),\n",
       "       Decimal('18'), Decimal('19'), Decimal('19'), Decimal('18'),\n",
       "       Decimal('19'), Decimal('19'), Decimal('0'), Decimal('19'),\n",
       "       Decimal('17'), Decimal('18'), Decimal('19'), Decimal('0'),\n",
       "       Decimal('2'), Decimal('19'), Decimal('19'), Decimal('19'),\n",
       "       Decimal('19'), Decimal('19'), Decimal('2'), Decimal('19'),\n",
       "       Decimal('19'), Decimal('19'), Decimal('19'), Decimal('19'),\n",
       "       Decimal('19'), Decimal('17'), Decimal('19'), Decimal('17'),\n",
       "       Decimal('18'), Decimal('3'), Decimal('18'), Decimal('19'),\n",
       "       Decimal('3'), Decimal('19'), Decimal('19'), Decimal('0'),\n",
       "       Decimal('17'), Decimal('19'), Decimal('19')], dtype=object)"
      ]
     },
     "execution_count": 184,
     "metadata": {},
     "output_type": "execute_result"
    }
   ],
   "source": [
    "nitrogen = integrated_sensor_df.nitrogen.to_numpy()\n",
    "nitrogen"
   ]
  },
  {
   "cell_type": "markdown",
   "id": "16a646f6",
   "metadata": {},
   "source": [
    "#### Valores estadísticos"
   ]
  },
  {
   "cell_type": "code",
   "execution_count": 185,
   "id": "074df0ff",
   "metadata": {},
   "outputs": [
    {
     "name": "stdout",
     "output_type": "stream",
     "text": [
      "Mínimo: \t\t 0\n",
      "Máximo: \t\t 48\n",
      "Mediana: \t\t 19\n",
      "Media: \t\t\t 16.48837209302325581395348837\n",
      "Desviación estándar: \t 8.018502130677918384964602693\n",
      "Varianza: \t\t 64.29637641968631692806922667\n"
     ]
    }
   ],
   "source": [
    "print(\"Mínimo: \\t\\t\", np.amin(nitrogen))\n",
    "print(\"Máximo: \\t\\t\", np.amax(nitrogen))\n",
    "print(\"Mediana: \\t\\t\", np.median(nitrogen))\n",
    "print(\"Media: \\t\\t\\t\", np.mean(nitrogen))\n",
    "print(\"Desviación estándar: \\t\", np.std(nitrogen))\n",
    "print(\"Varianza: \\t\\t\", np.var(nitrogen))"
   ]
  },
  {
   "cell_type": "markdown",
   "id": "0cef0098",
   "metadata": {},
   "source": [
    "#### Gráfica de puntos"
   ]
  },
  {
   "cell_type": "code",
   "execution_count": 186,
   "id": "82ca3668",
   "metadata": {},
   "outputs": [
    {
     "data": {
      "text/plain": [
       "Text(0.5, 0, 'Time')"
      ]
     },
     "execution_count": 186,
     "metadata": {},
     "output_type": "execute_result"
    },
    {
     "data": {
      "image/png": "[encoded data removed]",
      "text/plain": [
       "<Figure size 640x480 with 1 Axes>"
      ]
     },
     "metadata": {},
     "output_type": "display_data"
    }
   ],
   "source": [
    "fig, ax = plt.subplots()\n",
    "ax.scatter(values_sample_time, nitrogen, c=\"green\", alpha=0.5)\n",
    "plt.xticks(rotation=45)\n",
    "plt.axhline(y=np.nanmean(nitrogen), color='red', linestyle='--', linewidth=1, label='Avg')\n",
    "ax.set_ylabel(\"mg/kg\")\n",
    "ax.set_xlabel(\"Time\")"
   ]
  },
  {
   "attachments": {},
   "cell_type": "markdown",
   "id": "189ca26f",
   "metadata": {},
   "source": [
    "**Análisis:** \n",
    "\n",
    "\n",
    "\n",
    "\n",
    "\n",
    "Considerando los valores estadísticos obtenidos y la gráfica. \n",
    "Se tiene que el valor promedio de Nitrógeno es de 19 mg/kg (miligramos por kilogramo). \n",
    "La media tiene un valor de 16.49 mg/kg.\n",
    "\n",
    "De acuerdo con la literatura revisada, el requerimiento agroclimático para el cultivo de repollo, en lo que refiere a al nitrógeno, se espera que esté en un rango de 100 - 200 kg/ha (10000 – 20000 mg/m2).\n",
    "\n"
   ]
  },
  {
   "cell_type": "markdown",
   "id": "93ef5599",
   "metadata": {},
   "source": [
    "### Fósforo"
   ]
  },
  {
   "cell_type": "code",
   "execution_count": 187,
   "id": "b9cc7403",
   "metadata": {},
   "outputs": [
    {
     "data": {
      "text/plain": [
       "array([Decimal('27'), Decimal('56'), Decimal('27'), Decimal('25'),\n",
       "       Decimal('25'), Decimal('26'), Decimal('27'), Decimal('25'),\n",
       "       Decimal('27'), Decimal('27'), Decimal('0'), Decimal('27'),\n",
       "       Decimal('24'), Decimal('25'), Decimal('27'), Decimal('128'),\n",
       "       Decimal('128'), Decimal('27'), Decimal('27'), Decimal('27'),\n",
       "       Decimal('27'), Decimal('27'), Decimal('191'), Decimal('27'),\n",
       "       Decimal('27'), Decimal('27'), Decimal('27'), Decimal('27'),\n",
       "       Decimal('27'), Decimal('25'), Decimal('27'), Decimal('25'),\n",
       "       Decimal('25'), Decimal('28'), Decimal('25'), Decimal('27'),\n",
       "       Decimal('28'), Decimal('27'), Decimal('27'), Decimal('19'),\n",
       "       Decimal('25'), Decimal('27'), Decimal('27')], dtype=object)"
      ]
     },
     "execution_count": 187,
     "metadata": {},
     "output_type": "execute_result"
    }
   ],
   "source": [
    "phosphorous = integrated_sensor_df.phosphorous.to_numpy()\n",
    "phosphorous"
   ]
  },
  {
   "cell_type": "markdown",
   "id": "18adb216",
   "metadata": {},
   "source": [
    "#### Valores estadísticos"
   ]
  },
  {
   "cell_type": "code",
   "execution_count": 188,
   "id": "9bf7b2f7",
   "metadata": {},
   "outputs": [
    {
     "name": "stdout",
     "output_type": "stream",
     "text": [
      "Mínimo: \t\t 0\n",
      "Máximo: \t\t 191\n",
      "Mediana: \t\t 27\n",
      "Media: \t\t\t 34.90697674418604651162790698\n",
      "Desviación estándar: \t 32.81081355603303983241766517\n",
      "Varianza: \t\t 1076.549486208761492698756085\n"
     ]
    }
   ],
   "source": [
    "print(\"Mínimo: \\t\\t\", np.amin(phosphorous))\n",
    "print(\"Máximo: \\t\\t\", np.amax(phosphorous))\n",
    "print(\"Mediana: \\t\\t\", np.median(phosphorous))\n",
    "print(\"Media: \\t\\t\\t\", np.mean(phosphorous))\n",
    "print(\"Desviación estándar: \\t\", np.std(phosphorous))\n",
    "print(\"Varianza: \\t\\t\", np.var(phosphorous))"
   ]
  },
  {
   "cell_type": "markdown",
   "id": "2043dda4",
   "metadata": {},
   "source": [
    "#### Gráfica de puntos"
   ]
  },
  {
   "cell_type": "code",
   "execution_count": 189,
   "id": "17be6fc2",
   "metadata": {},
   "outputs": [
    {
     "data": {
      "text/plain": [
       "Text(0.5, 0, 'Time')"
      ]
     },
     "execution_count": 189,
     "metadata": {},
     "output_type": "execute_result"
    },
    {
     "data": {
      "image/png": "[encoded data removed]",
      "text/plain": [
       "<Figure size 640x480 with 1 Axes>"
      ]
     },
     "metadata": {},
     "output_type": "display_data"
    }
   ],
   "source": [
    "fig, ax = plt.subplots()\n",
    "ax.scatter(values_sample_time, phosphorous, c=\"green\", alpha=0.5)\n",
    "plt.xticks(rotation=45)\n",
    "plt.axhline(y=np.nanmean(phosphorous), color='red', linestyle='--', linewidth=1, label='Avg')\n",
    "ax.set_ylabel(\"mg/kg\")\n",
    "ax.set_xlabel(\"Time\")"
   ]
  },
  {
   "attachments": {},
   "cell_type": "markdown",
   "id": "449d8525",
   "metadata": {},
   "source": [
    "**Análisis:** \n",
    "\n",
    "\n",
    "\n",
    "\n",
    "\n",
    "Considerando los valores estadísticos obtenidos y la gráfica. \n",
    "Se tiene que el valor promedio de fósforo es de 27 mg/kg (miligramos por kilogramo). \n",
    "La media tiene un valor de 34.91 mg/kg.\n",
    "\n",
    "De acuerdo con la literatura revisada, el requerimiento agroclimático para el cultivo de repollo, en lo que refiere a al fósforo, se espera que esté en un rango de 150 - 200 kg/ha (15000 – 20000 mg/m2).\n",
    "\n"
   ]
  },
  {
   "cell_type": "markdown",
   "id": "698b7494",
   "metadata": {},
   "source": [
    "### Potasio"
   ]
  },
  {
   "cell_type": "code",
   "execution_count": 190,
   "id": "7f20567d",
   "metadata": {},
   "outputs": [
    {
     "data": {
      "text/plain": [
       "array([Decimal('54'), Decimal('3'), Decimal('54'), Decimal('50'),\n",
       "       Decimal('50'), Decimal('54'), Decimal('55'), Decimal('51'),\n",
       "       Decimal('54'), Decimal('54'), Decimal('54'), Decimal('54'),\n",
       "       Decimal('49'), Decimal('49'), Decimal('54'), Decimal('240'),\n",
       "       Decimal('32'), Decimal('54'), Decimal('54'), Decimal('54'),\n",
       "       Decimal('54'), Decimal('54'), Decimal('213'), Decimal('55'),\n",
       "       Decimal('54'), Decimal('54'), Decimal('54'), Decimal('54'),\n",
       "       Decimal('54'), Decimal('50'), Decimal('55'), Decimal('51'),\n",
       "       Decimal('51'), Decimal('0'), Decimal('51'), Decimal('54'),\n",
       "       Decimal('255'), Decimal('54'), Decimal('55'), Decimal('128'),\n",
       "       Decimal('51'), Decimal('54'), Decimal('54')], dtype=object)"
      ]
     },
     "execution_count": 190,
     "metadata": {},
     "output_type": "execute_result"
    }
   ],
   "source": [
    "potassium = integrated_sensor_df.potassium.to_numpy()\n",
    "potassium"
   ]
  },
  {
   "cell_type": "markdown",
   "id": "98d0f621",
   "metadata": {},
   "source": [
    "#### Valores estadísticos"
   ]
  },
  {
   "cell_type": "code",
   "execution_count": 191,
   "id": "fad16b6c",
   "metadata": {},
   "outputs": [
    {
     "name": "stdout",
     "output_type": "stream",
     "text": [
      "Mínimo: \t\t 0\n",
      "Máximo: \t\t 255\n",
      "Mediana: \t\t 54\n",
      "Media: \t\t\t 64.69767441860465116279069767\n",
      "Desviación estándar: \t 49.87917255786013389986900515\n",
      "Varianza: \t\t 2487.931855056787452677122765\n"
     ]
    }
   ],
   "source": [
    "print(\"Mínimo: \\t\\t\", np.amin(potassium))\n",
    "print(\"Máximo: \\t\\t\", np.amax(potassium))\n",
    "print(\"Mediana: \\t\\t\", np.median(potassium))\n",
    "print(\"Media: \\t\\t\\t\", np.mean(potassium))\n",
    "print(\"Desviación estándar: \\t\", np.std(potassium))\n",
    "print(\"Varianza: \\t\\t\", np.var(potassium))"
   ]
  },
  {
   "cell_type": "markdown",
   "id": "30dbe58f",
   "metadata": {},
   "source": [
    "#### Gráfica de puntos"
   ]
  },
  {
   "cell_type": "code",
   "execution_count": 192,
   "id": "ac522624",
   "metadata": {},
   "outputs": [
    {
     "data": {
      "text/plain": [
       "Text(0.5, 0, 'Time')"
      ]
     },
     "execution_count": 192,
     "metadata": {},
     "output_type": "execute_result"
    },
    {
     "data": {
      "image/png": "[encoded data removed]",
      "text/plain": [
       "<Figure size 640x480 with 1 Axes>"
      ]
     },
     "metadata": {},
     "output_type": "display_data"
    }
   ],
   "source": [
    "fig, ax = plt.subplots()\n",
    "ax.scatter(values_sample_time, potassium, c=\"green\", alpha=0.5)\n",
    "plt.xticks(rotation=45)\n",
    "plt.axhline(y=np.nanmean(potassium), color='red', linestyle='--', linewidth=1, label='Avg')\n",
    "ax.set_ylabel(\"mg/kg\")\n",
    "ax.set_xlabel(\"Time\")"
   ]
  },
  {
   "attachments": {},
   "cell_type": "markdown",
   "id": "c1aa7efc",
   "metadata": {},
   "source": [
    "**Análisis:** \n",
    "\n",
    "Considerando los valores estadísticos obtenidos y la gráfica. \n",
    "Se tiene que el valor promedio de Potasio es de 54 mg/kg (miligramos por kilogramo). \n",
    "La media tiene un valor de 64.70 mg/kg.\n",
    "\n",
    "De acuerdo con la literatura revisada, el requerimiento agroclimático para el cultivo de repollo, en lo que refiere a al potasio, se espera que esté en un valor aproximado de 75kg/ha (7500 mg/m2).\n",
    "\n"
   ]
  },
  {
   "cell_type": "code",
   "execution_count": null,
   "id": "f6395b46",
   "metadata": {},
   "outputs": [],
   "source": []
  }
 ],
 "metadata": {
  "kernelspec": {
   "display_name": "env",
   "language": "python",
   "name": "python3"
  },
  "language_info": {
   "codemirror_mode": {
    "name": "ipython",
    "version": 3
   },
   "file_extension": ".py",
   "mimetype": "text/x-python",
   "name": "python",
   "nbconvert_exporter": "python",
   "pygments_lexer": "ipython3",
   "version": "3.10.0 (v3.10.0:b494f5935c, Oct  4 2021, 14:59:20) [Clang 12.0.5 (clang-1205.0.22.11)]"
  },
  "vscode": {
   "interpreter": {
    "hash": "158c1b568cc00169327f95a5b93416c05018c401dbd44b39e5d1d15fcce1b85a"
   }
  }
 },
 "nbformat": 4,
 "nbformat_minor": 5
}
